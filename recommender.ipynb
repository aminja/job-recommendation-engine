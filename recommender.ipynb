{
 "cells": [
  {
   "cell_type": "markdown",
   "metadata": {},
   "source": [
    "### Job Recommender\n",
    "\n",
    "TBD"
   ]
  },
  {
   "cell_type": "markdown",
   "metadata": {},
   "source": [
    "Firstly let's retreive data and extract the useful features."
   ]
  },
  {
   "cell_type": "code",
   "execution_count": 1,
   "metadata": {},
   "outputs": [
    {
     "data": {
      "text/html": [
       "<div>\n",
       "<style scoped>\n",
       "    .dataframe tbody tr th:only-of-type {\n",
       "        vertical-align: middle;\n",
       "    }\n",
       "\n",
       "    .dataframe tbody tr th {\n",
       "        vertical-align: top;\n",
       "    }\n",
       "\n",
       "    .dataframe thead th {\n",
       "        text-align: right;\n",
       "    }\n",
       "</style>\n",
       "<table border=\"1\" class=\"dataframe\">\n",
       "  <thead>\n",
       "    <tr style=\"text-align: right;\">\n",
       "      <th></th>\n",
       "      <th>aggregated</th>\n",
       "    </tr>\n",
       "  </thead>\n",
       "  <tbody>\n",
       "    <tr>\n",
       "      <td>0</td>\n",
       "      <td>Server @ Tacolicious Server Tacolicious' first...</td>\n",
       "    </tr>\n",
       "    <tr>\n",
       "      <td>1</td>\n",
       "      <td>Kitchen Staff/Chef @ Claude Lane Kitchen Staff...</td>\n",
       "    </tr>\n",
       "    <tr>\n",
       "      <td>2</td>\n",
       "      <td>Bartender @ Machka Restaurants Corp. Bartender...</td>\n",
       "    </tr>\n",
       "    <tr>\n",
       "      <td>3</td>\n",
       "      <td>Server @ Teriyaki House Server  ● Serve food/d...</td>\n",
       "    </tr>\n",
       "    <tr>\n",
       "      <td>4</td>\n",
       "      <td>Kitchen Staff/Chef @ Rosa Mexicano - Sunset Ki...</td>\n",
       "    </tr>\n",
       "  </tbody>\n",
       "</table>\n",
       "</div>"
      ],
      "text/plain": [
       "                                          aggregated\n",
       "0  Server @ Tacolicious Server Tacolicious' first...\n",
       "1  Kitchen Staff/Chef @ Claude Lane Kitchen Staff...\n",
       "2  Bartender @ Machka Restaurants Corp. Bartender...\n",
       "3  Server @ Teriyaki House Server  ● Serve food/d...\n",
       "4  Kitchen Staff/Chef @ Rosa Mexicano - Sunset Ki..."
      ]
     },
     "execution_count": 1,
     "metadata": {},
     "output_type": "execute_result"
    }
   ],
   "source": [
    "import pandas as pd\n",
    "\n",
    "raw_jobs = pd.read_csv('data/Combined_Jobs_Final.csv')\n",
    "\n",
    "# Replace NAN values with empty string\n",
    "raw_jobs.fillna('', inplace=True)\n",
    "\n",
    "# Concatenate insightful columns\n",
    "jobs = raw_jobs['Title'] + ' ' + raw_jobs['Position'] + ' ' +  raw_jobs['Job.Description']\n",
    "# Convert object into Pandas data-frame\n",
    "jobs = pd.DataFrame(jobs, columns=['aggregated'])\n",
    "jobs.head(5)"
   ]
  },
  {
   "cell_type": "markdown",
   "metadata": {},
   "source": [
    "According to the upper result, the data contains many trash characters and words. Therefore, there is a must to process and clean the raw data. We propose the below function to purging punctuations and stop words, also applying tokenization and stemming."
   ]
  },
  {
   "cell_type": "code",
   "execution_count": 2,
   "metadata": {},
   "outputs": [
    {
     "name": "stderr",
     "output_type": "stream",
     "text": [
      "[nltk_data] Downloading package punkt to /home/amin/nltk_data...\n",
      "[nltk_data]   Package punkt is already up-to-date!\n",
      "[nltk_data] Downloading package stopwords to /home/amin/nltk_data...\n",
      "[nltk_data]   Package stopwords is already up-to-date!\n"
     ]
    }
   ],
   "source": [
    "# Importing the required libraries and tools\n",
    "import nltk\n",
    "from nltk.corpus import stopwords\n",
    "from nltk.stem import PorterStemmer\n",
    "\n",
    "nltk.download('punkt')\n",
    "nltk.download('stopwords')\n",
    "\n",
    "\n",
    "def text_processing(df, col_name, punctuation=True):\n",
    "    '''\n",
    "    Given dataframe and desired column to convert the raw text into processed tokens\n",
    "    :param df: dataframe\n",
    "    :param col_name: column name\n",
    "    :param punctuation: the boolean which shows whether punctuation cleaning be applied or not\n",
    "    :return: processed dataframe\n",
    "    '''\n",
    "    if not punctuation:\n",
    "        # punctuation cleaning\n",
    "        df['clean_{}'.format(col_name)] = df[col_name].str.replace('[^\\w\\s]','')\n",
    "\n",
    "        # tokenizing phase\n",
    "        df['tokens_{}'.format(col_name)] = df['clean_{}'.format(col_name)].apply(nltk.word_tokenize)\n",
    "    else:\n",
    "        # tokenizing phase\n",
    "        df['tokens_{}'.format(col_name)] = df[col_name].apply(nltk.word_tokenize)\n",
    "\n",
    "    # stopwords cleaning\n",
    "    stop = stopwords.words('english')\n",
    "    df['stop_{}'.format(col_name)] = df['tokens_{}'.format(col_name)]. \\\n",
    "        apply(lambda x: [word for word in x if word not in (stop)])\n",
    "\n",
    "    # stemming\n",
    "    ps = PorterStemmer()\n",
    "    df['stemmed_{}'.format(col_name)] = df['stop_{}'.format(col_name)]. \\\n",
    "        apply(lambda words: [ps.stem(word) for word in words])\n",
    "\n",
    "    return df\n"
   ]
  },
  {
   "cell_type": "code",
   "execution_count": 3,
   "metadata": {},
   "outputs": [
    {
     "name": "stdout",
     "output_type": "stream",
     "text": [
      "<class 'pandas.core.frame.DataFrame'>\n",
      "RangeIndex: 84090 entries, 0 to 84089\n",
      "Data columns (total 5 columns):\n",
      "aggregated            84090 non-null object\n",
      "clean_aggregated      84090 non-null object\n",
      "tokens_aggregated     84090 non-null object\n",
      "stop_aggregated       84090 non-null object\n",
      "stemmed_aggregated    84090 non-null object\n",
      "dtypes: object(5)\n",
      "memory usage: 3.2+ MB\n"
     ]
    }
   ],
   "source": [
    "# Calling the defined function to clean data\n",
    "\n",
    "processed_jobs = text_processing(jobs, 'aggregated', punctuation=False)\n",
    "processed_jobs.info()"
   ]
  },
  {
   "cell_type": "markdown",
   "metadata": {},
   "source": [
    "There is no need for the middle columns in this project; Hence, the first and last columns will be selected and comapred."
   ]
  },
  {
   "cell_type": "code",
   "execution_count": 4,
   "metadata": {},
   "outputs": [
    {
     "data": {
      "text/html": [
       "<div>\n",
       "<style scoped>\n",
       "    .dataframe tbody tr th:only-of-type {\n",
       "        vertical-align: middle;\n",
       "    }\n",
       "\n",
       "    .dataframe tbody tr th {\n",
       "        vertical-align: top;\n",
       "    }\n",
       "\n",
       "    .dataframe thead th {\n",
       "        text-align: right;\n",
       "    }\n",
       "</style>\n",
       "<table border=\"1\" class=\"dataframe\">\n",
       "  <thead>\n",
       "    <tr style=\"text-align: right;\">\n",
       "      <th></th>\n",
       "      <th>aggregated</th>\n",
       "      <th>stemmed_aggregated</th>\n",
       "    </tr>\n",
       "  </thead>\n",
       "  <tbody>\n",
       "    <tr>\n",
       "      <td>0</td>\n",
       "      <td>Server @ Tacolicious Server Tacolicious' first...</td>\n",
       "      <td>[server, tacolici, server, tacolici, first, pa...</td>\n",
       "    </tr>\n",
       "    <tr>\n",
       "      <td>1</td>\n",
       "      <td>Kitchen Staff/Chef @ Claude Lane Kitchen Staff...</td>\n",
       "      <td>[kitchen, staffchef, claud, lane, kitchen, sta...</td>\n",
       "    </tr>\n",
       "    <tr>\n",
       "      <td>2</td>\n",
       "      <td>Bartender @ Machka Restaurants Corp. Bartender...</td>\n",
       "      <td>[bartend, machka, restaur, corp, bartend, We, ...</td>\n",
       "    </tr>\n",
       "    <tr>\n",
       "      <td>3</td>\n",
       "      <td>Server @ Teriyaki House Server  ● Serve food/d...</td>\n",
       "      <td>[server, teriyaki, hous, server, serv, fooddri...</td>\n",
       "    </tr>\n",
       "    <tr>\n",
       "      <td>4</td>\n",
       "      <td>Kitchen Staff/Chef @ Rosa Mexicano - Sunset Ki...</td>\n",
       "      <td>[kitchen, staffchef, rosa, mexicano, sunset, k...</td>\n",
       "    </tr>\n",
       "  </tbody>\n",
       "</table>\n",
       "</div>"
      ],
      "text/plain": [
       "                                          aggregated  \\\n",
       "0  Server @ Tacolicious Server Tacolicious' first...   \n",
       "1  Kitchen Staff/Chef @ Claude Lane Kitchen Staff...   \n",
       "2  Bartender @ Machka Restaurants Corp. Bartender...   \n",
       "3  Server @ Teriyaki House Server  ● Serve food/d...   \n",
       "4  Kitchen Staff/Chef @ Rosa Mexicano - Sunset Ki...   \n",
       "\n",
       "                                  stemmed_aggregated  \n",
       "0  [server, tacolici, server, tacolici, first, pa...  \n",
       "1  [kitchen, staffchef, claud, lane, kitchen, sta...  \n",
       "2  [bartend, machka, restaur, corp, bartend, We, ...  \n",
       "3  [server, teriyaki, hous, server, serv, fooddri...  \n",
       "4  [kitchen, staffchef, rosa, mexicano, sunset, k...  "
      ]
     },
     "execution_count": 4,
     "metadata": {},
     "output_type": "execute_result"
    }
   ],
   "source": [
    "final_jobs = processed_jobs[['aggregated', 'stemmed_aggregated']]\n",
    "final_jobs.head(5)"
   ]
  },
  {
   "cell_type": "code",
   "execution_count": null,
   "metadata": {},
   "outputs": [],
   "source": []
  }
 ],
 "metadata": {
  "kernelspec": {
   "display_name": "Python 3",
   "language": "python",
   "name": "python3"
  },
  "language_info": {
   "codemirror_mode": {
    "name": "ipython",
    "version": 3
   },
   "file_extension": ".py",
   "mimetype": "text/x-python",
   "name": "python",
   "nbconvert_exporter": "python",
   "pygments_lexer": "ipython3",
   "version": "3.6.8"
  }
 },
 "nbformat": 4,
 "nbformat_minor": 2
}
