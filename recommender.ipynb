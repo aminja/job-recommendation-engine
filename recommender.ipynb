{
 "cells": [
  {
   "cell_type": "markdown",
   "metadata": {},
   "source": [
    "### Job Recommender\n",
    "\n",
    "Nowadays, due to the high volume of data in the recruitment industry, applying data-driven approaches can pave the way to the corporation OKRs. <br />\n",
    "This demo depicts a big picture of a job recommendation system. The concepts are illustrated by data and basic examples. <br />\n",
    "It is assumed that there is a rudimentary infrastructure to capture the nature of data. Therefore, data is unsupervised although in an enterprise company, one can boost the accuracy of the recommender by applying the feedbacks of applicants' admission result. <br />\n",
    "There are 3 sources of data:\n",
    "* Jobs\n",
    "* Applications\n",
    "* Interactions"
   ]
  },
  {
   "cell_type": "markdown",
   "metadata": {},
   "source": [
    "The project goes for applying a 2-phases architecture applying a search engine to find probable positions for the applicants as phase 1 and deploying a collaborative filter (user-based) to imitate the actions of similar applicants - phase 2."
   ]
  },
  {
   "cell_type": "markdown",
   "metadata": {},
   "source": [
    "At first, let's retreive data and extract the useful features."
   ]
  },
  {
   "cell_type": "code",
   "execution_count": 1,
   "metadata": {},
   "outputs": [
    {
     "data": {
      "text/html": [
       "<div>\n",
       "<style scoped>\n",
       "    .dataframe tbody tr th:only-of-type {\n",
       "        vertical-align: middle;\n",
       "    }\n",
       "\n",
       "    .dataframe tbody tr th {\n",
       "        vertical-align: top;\n",
       "    }\n",
       "\n",
       "    .dataframe thead th {\n",
       "        text-align: right;\n",
       "    }\n",
       "</style>\n",
       "<table border=\"1\" class=\"dataframe\">\n",
       "  <thead>\n",
       "    <tr style=\"text-align: right;\">\n",
       "      <th></th>\n",
       "      <th>Title</th>\n",
       "      <th>Position</th>\n",
       "      <th>Company</th>\n",
       "      <th>Job.Description</th>\n",
       "    </tr>\n",
       "    <tr>\n",
       "      <th>Job.ID</th>\n",
       "      <th></th>\n",
       "      <th></th>\n",
       "      <th></th>\n",
       "      <th></th>\n",
       "    </tr>\n",
       "  </thead>\n",
       "  <tbody>\n",
       "    <tr>\n",
       "      <td>3</td>\n",
       "      <td>Customer Service @ Bayer healthcare</td>\n",
       "      <td>Customer Service</td>\n",
       "      <td>Bayer healthcare</td>\n",
       "      <td>Candidates should be familiar with Microsoft O...</td>\n",
       "    </tr>\n",
       "    <tr>\n",
       "      <td>28</td>\n",
       "      <td>Kitchen Staff/Chef @ Pacific Catch</td>\n",
       "      <td>Kitchen Staff/Chef</td>\n",
       "      <td>Pacific Catch</td>\n",
       "      <td>OVERVIEW\\r\\nPacific Catch, the Bay Area's hott...</td>\n",
       "    </tr>\n",
       "    <tr>\n",
       "      <td>30</td>\n",
       "      <td>Bartender @ Dave's American Bistro</td>\n",
       "      <td>Bartender</td>\n",
       "      <td>Dave's American Bistro</td>\n",
       "      <td>Work and maintain fast pace bar. Knowledge of ...</td>\n",
       "    </tr>\n",
       "    <tr>\n",
       "      <td>33</td>\n",
       "      <td>Server @ Haven</td>\n",
       "      <td>Server</td>\n",
       "      <td>Haven</td>\n",
       "      <td>Located in Oaklandâ€™s Jack London Square, Ha...</td>\n",
       "    </tr>\n",
       "    <tr>\n",
       "      <td>35</td>\n",
       "      <td>Kitchen Staff @ Skool</td>\n",
       "      <td>Kitchen Staff</td>\n",
       "      <td>Skool</td>\n",
       "      <td>Featuring a wide variety of seafood dishes and...</td>\n",
       "    </tr>\n",
       "  </tbody>\n",
       "</table>\n",
       "</div>"
      ],
      "text/plain": [
       "                                      Title            Position  \\\n",
       "Job.ID                                                            \n",
       "3       Customer Service @ Bayer healthcare    Customer Service   \n",
       "28       Kitchen Staff/Chef @ Pacific Catch  Kitchen Staff/Chef   \n",
       "30       Bartender @ Dave's American Bistro           Bartender   \n",
       "33                           Server @ Haven              Server   \n",
       "35                    Kitchen Staff @ Skool       Kitchen Staff   \n",
       "\n",
       "                       Company  \\\n",
       "Job.ID                           \n",
       "3             Bayer healthcare   \n",
       "28               Pacific Catch   \n",
       "30      Dave's American Bistro   \n",
       "33                       Haven   \n",
       "35                       Skool   \n",
       "\n",
       "                                          Job.Description  \n",
       "Job.ID                                                     \n",
       "3       Candidates should be familiar with Microsoft O...  \n",
       "28      OVERVIEW\\r\\nPacific Catch, the Bay Area's hott...  \n",
       "30      Work and maintain fast pace bar. Knowledge of ...  \n",
       "33       Located in Oaklandâ€™s Jack London Square, Ha...  \n",
       "35      Featuring a wide variety of seafood dishes and...  "
      ]
     },
     "execution_count": 1,
     "metadata": {},
     "output_type": "execute_result"
    }
   ],
   "source": [
    "import pandas as pd\n",
    "\n",
    "raw_jobs = pd.read_csv('data/Combined_Jobs_Final.csv', index_col='Job.ID')\n",
    "# Select useful features\n",
    "raw_jobs = raw_jobs[['Title', 'Position', 'Company', 'Job.Description']]\n",
    "# Replace NAN values with empty string\n",
    "raw_jobs.fillna('', inplace=True)\n",
    "# Sort data by job IDs\n",
    "raw_jobs.sort_index(axis = 0, inplace=True) \n",
    "\n",
    "raw_jobs.head(5)"
   ]
  },
  {
   "cell_type": "markdown",
   "metadata": {},
   "source": [
    "The data contains many trash characters and words. Thus, there is a must to process and clean the raw data. We propose the below function to purging punctuations and stop words, also applying stemming."
   ]
  },
  {
   "cell_type": "code",
   "execution_count": 2,
   "metadata": {},
   "outputs": [
    {
     "name": "stderr",
     "output_type": "stream",
     "text": [
      "[nltk_data] Downloading package punkt to /home/amin/nltk_data...\n",
      "[nltk_data]   Package punkt is already up-to-date!\n",
      "[nltk_data] Downloading package stopwords to /home/amin/nltk_data...\n",
      "[nltk_data]   Package stopwords is already up-to-date!\n"
     ]
    }
   ],
   "source": [
    "# Importing the required libraries and tools\n",
    "import nltk\n",
    "from nltk.corpus import stopwords\n",
    "from nltk.stem import PorterStemmer\n",
    "\n",
    "nltk.download('punkt')\n",
    "nltk.download('stopwords')\n",
    "\n",
    "\n",
    "def text_processing(df, col_name):\n",
    "    # punctuation cleaning\n",
    "    df['clean_{}'.format(col_name)] = df[col_name].str.replace('[^\\w\\s]','')\n",
    "\n",
    "    # tokenizing phase\n",
    "    df['clean_{}'.format(col_name)] = df['clean_{}'.format(col_name)].apply(nltk.word_tokenize)\n",
    "        \n",
    "    # stopwords cleaning\n",
    "    stop = stopwords.words('english')\n",
    "    df['clean_{}'.format(col_name)] = df['clean_{}'.format(col_name)]. \\\n",
    "        apply(lambda x: [word for word in x if word not in (stop)])\n",
    "\n",
    "    # stemming\n",
    "    ps = PorterStemmer()\n",
    "    df['clean_{}'.format(col_name)] = df['clean_{}'.format(col_name)]. \\\n",
    "        apply(lambda words: [ps.stem(word) for word in words])\n",
    "    \n",
    "    \n",
    "    df['clean_{}'.format(col_name)] = df['clean_{}'.format(col_name)].apply(lambda words: ' '.join(words))\n",
    "    \n",
    "    return df['clean_{}'.format(col_name)]"
   ]
  },
  {
   "cell_type": "code",
   "execution_count": 3,
   "metadata": {},
   "outputs": [
    {
     "data": {
      "text/html": [
       "<div>\n",
       "<style scoped>\n",
       "    .dataframe tbody tr th:only-of-type {\n",
       "        vertical-align: middle;\n",
       "    }\n",
       "\n",
       "    .dataframe tbody tr th {\n",
       "        vertical-align: top;\n",
       "    }\n",
       "\n",
       "    .dataframe thead th {\n",
       "        text-align: right;\n",
       "    }\n",
       "</style>\n",
       "<table border=\"1\" class=\"dataframe\">\n",
       "  <thead>\n",
       "    <tr style=\"text-align: right;\">\n",
       "      <th></th>\n",
       "      <th>aggregated</th>\n",
       "    </tr>\n",
       "    <tr>\n",
       "      <th>Job.ID</th>\n",
       "      <th></th>\n",
       "    </tr>\n",
       "  </thead>\n",
       "  <tbody>\n",
       "    <tr>\n",
       "      <td>3</td>\n",
       "      <td>custom servic bayer healthcar custom servic ca...</td>\n",
       "    </tr>\n",
       "    <tr>\n",
       "      <td>28</td>\n",
       "      <td>kitchen staffchef pacif catch kitchen staffche...</td>\n",
       "    </tr>\n",
       "    <tr>\n",
       "      <td>30</td>\n",
       "      <td>bartend dave american bistro bartend work main...</td>\n",
       "    </tr>\n",
       "    <tr>\n",
       "      <td>33</td>\n",
       "      <td>server haven server locat oaklandâ jack london...</td>\n",
       "    </tr>\n",
       "    <tr>\n",
       "      <td>35</td>\n",
       "      <td>kitchen staff skool kitchen staff featur wide ...</td>\n",
       "    </tr>\n",
       "  </tbody>\n",
       "</table>\n",
       "</div>"
      ],
      "text/plain": [
       "                                               aggregated\n",
       "Job.ID                                                   \n",
       "3       custom servic bayer healthcar custom servic ca...\n",
       "28      kitchen staffchef pacif catch kitchen staffche...\n",
       "30      bartend dave american bistro bartend work main...\n",
       "33      server haven server locat oaklandâ jack london...\n",
       "35      kitchen staff skool kitchen staff featur wide ..."
      ]
     },
     "execution_count": 3,
     "metadata": {},
     "output_type": "execute_result"
    }
   ],
   "source": [
    "# Concatenate columns\n",
    "jobs = raw_jobs['Title'] + ' ' + raw_jobs['Position'] + ' ' +  raw_jobs['Job.Description']\n",
    "# Convert object into Pandas data-frame\n",
    "jobs = pd.DataFrame(jobs, columns=['aggregated'])\n",
    "jobs['aggregated'] = text_processing(jobs.copy(), 'aggregated')\n",
    "jobs.head(5)"
   ]
  },
  {
   "cell_type": "markdown",
   "metadata": {},
   "source": [
    "According to the upper result, the data contains textual data; Hence, we need to convert it to numeric features to can be fed into machine-learning/NLP algorithms and tools. The procedure is called vectorization. TF/IDF is one of the most prominent approaches of the vectorization."
   ]
  },
  {
   "cell_type": "code",
   "execution_count": 4,
   "metadata": {},
   "outputs": [],
   "source": [
    "from sklearn.feature_extraction.text import TfidfVectorizer\n",
    "\n",
    "v = TfidfVectorizer()\n",
    "tfidf_matrix = v.fit_transform(jobs['aggregated'])"
   ]
  },
  {
   "cell_type": "code",
   "execution_count": 5,
   "metadata": {
    "scrolled": true
   },
   "outputs": [],
   "source": [
    "from sklearn.metrics.pairwise import linear_kernel\n",
    "\n",
    "def retrieve_similar_items(tfidf_matrix, data, _text, k = 3):\n",
    "    query_vector = v.transform([_text])\n",
    "    similarities = linear_kernel(query_vector, tfidf_matrix).flatten()\n",
    "    scores = pd.DataFrame(list(zip(similarities, data.index)), columns=['score', 'Job.ID'])\n",
    "    result = pd.merge(data, scores, how='inner', on=['Job.ID', 'Job.ID']).sort_values('score', axis=0, ascending=False)\n",
    "    return result.head(k)"
   ]
  },
  {
   "cell_type": "markdown",
   "metadata": {},
   "source": [
    "This phase illustrates the performance of the model by applying a query containing the attributes of an applicant. <br />\n",
    "The score column depicts the similarity value of the results."
   ]
  },
  {
   "cell_type": "code",
   "execution_count": 6,
   "metadata": {
    "scrolled": false
   },
   "outputs": [
    {
     "data": {
      "text/html": [
       "<div>\n",
       "<style scoped>\n",
       "    .dataframe tbody tr th:only-of-type {\n",
       "        vertical-align: middle;\n",
       "    }\n",
       "\n",
       "    .dataframe tbody tr th {\n",
       "        vertical-align: top;\n",
       "    }\n",
       "\n",
       "    .dataframe thead th {\n",
       "        text-align: right;\n",
       "    }\n",
       "</style>\n",
       "<table border=\"1\" class=\"dataframe\">\n",
       "  <thead>\n",
       "    <tr style=\"text-align: right;\">\n",
       "      <th></th>\n",
       "      <th>Job.ID</th>\n",
       "      <th>Title</th>\n",
       "      <th>Position</th>\n",
       "      <th>Company</th>\n",
       "      <th>Job.Description</th>\n",
       "      <th>score</th>\n",
       "    </tr>\n",
       "  </thead>\n",
       "  <tbody>\n",
       "    <tr>\n",
       "      <td>78527</td>\n",
       "      <td>313610</td>\n",
       "      <td>Data Entry Clerk @ Accountemps</td>\n",
       "      <td>Data Entry Clerk</td>\n",
       "      <td>Accountemps</td>\n",
       "      <td>Ref ID:00070-109384Classification:Data Entry C...</td>\n",
       "      <td>0.561420</td>\n",
       "    </tr>\n",
       "    <tr>\n",
       "      <td>56245</td>\n",
       "      <td>285660</td>\n",
       "      <td>Data Entry Clerk @ OfficeTeam</td>\n",
       "      <td>Data Entry Clerk</td>\n",
       "      <td>OfficeTeam</td>\n",
       "      <td>Ref ID: 01500-9738660Classification: Data Entr...</td>\n",
       "      <td>0.537745</td>\n",
       "    </tr>\n",
       "    <tr>\n",
       "      <td>73492</td>\n",
       "      <td>307144</td>\n",
       "      <td>Data Entry Clerk / Data Entry Specialist (Data...</td>\n",
       "      <td>Data Entry Clerk / Data Entry Specialist (Data...</td>\n",
       "      <td>OfficeTeam</td>\n",
       "      <td>Ref ID: 00110-9742612Classification: Data Entr...</td>\n",
       "      <td>0.529848</td>\n",
       "    </tr>\n",
       "  </tbody>\n",
       "</table>\n",
       "</div>"
      ],
      "text/plain": [
       "       Job.ID                                              Title  \\\n",
       "78527  313610                     Data Entry Clerk @ Accountemps   \n",
       "56245  285660                      Data Entry Clerk @ OfficeTeam   \n",
       "73492  307144  Data Entry Clerk / Data Entry Specialist (Data...   \n",
       "\n",
       "                                                Position      Company  \\\n",
       "78527                                   Data Entry Clerk  Accountemps   \n",
       "56245                                   Data Entry Clerk   OfficeTeam   \n",
       "73492  Data Entry Clerk / Data Entry Specialist (Data...   OfficeTeam   \n",
       "\n",
       "                                         Job.Description     score  \n",
       "78527  Ref ID:00070-109384Classification:Data Entry C...  0.561420  \n",
       "56245  Ref ID: 01500-9738660Classification: Data Entr...  0.537745  \n",
       "73492  Ref ID: 00110-9742612Classification: Data Entr...  0.529848  "
      ]
     },
     "execution_count": 6,
     "metadata": {},
     "output_type": "execute_result"
    }
   ],
   "source": [
    "query = \"data entry team\"\n",
    "results = retrieve_similar_items(tfidf_matrix, raw_jobs, query)\n",
    "results"
   ]
  },
  {
   "cell_type": "markdown",
   "metadata": {},
   "source": [
    "Let's investigate the nature of applicants' data and interactions."
   ]
  },
  {
   "cell_type": "code",
   "execution_count": 7,
   "metadata": {},
   "outputs": [
    {
     "data": {
      "text/html": [
       "<div>\n",
       "<style scoped>\n",
       "    .dataframe tbody tr th:only-of-type {\n",
       "        vertical-align: middle;\n",
       "    }\n",
       "\n",
       "    .dataframe tbody tr th {\n",
       "        vertical-align: top;\n",
       "    }\n",
       "\n",
       "    .dataframe thead th {\n",
       "        text-align: right;\n",
       "    }\n",
       "</style>\n",
       "<table border=\"1\" class=\"dataframe\">\n",
       "  <thead>\n",
       "    <tr style=\"text-align: right;\">\n",
       "      <th></th>\n",
       "      <th>Position.Name</th>\n",
       "      <th>Employer.Name</th>\n",
       "      <th>Job.Description</th>\n",
       "    </tr>\n",
       "    <tr>\n",
       "      <th>Applicant.ID</th>\n",
       "      <th></th>\n",
       "      <th></th>\n",
       "      <th></th>\n",
       "    </tr>\n",
       "  </thead>\n",
       "  <tbody>\n",
       "    <tr>\n",
       "      <td>2</td>\n",
       "      <td>Volunteer</td>\n",
       "      <td>School for Self-Healing</td>\n",
       "      <td>* Read aloud Meir Schneider's books and record...</td>\n",
       "    </tr>\n",
       "    <tr>\n",
       "      <td>2</td>\n",
       "      <td>Writer for the Uloop Blog</td>\n",
       "      <td>Cecilia Abate</td>\n",
       "      <td>* Wrote articles for the \"Uloop Blog,\" which i...</td>\n",
       "    </tr>\n",
       "    <tr>\n",
       "      <td>3</td>\n",
       "      <td>Marketing Intern</td>\n",
       "      <td>Honda</td>\n",
       "      <td></td>\n",
       "    </tr>\n",
       "    <tr>\n",
       "      <td>3</td>\n",
       "      <td>Server</td>\n",
       "      <td>Aloha Beach Resort</td>\n",
       "      <td></td>\n",
       "    </tr>\n",
       "    <tr>\n",
       "      <td>3</td>\n",
       "      <td>Prep Cook</td>\n",
       "      <td>Moscone Center</td>\n",
       "      <td></td>\n",
       "    </tr>\n",
       "  </tbody>\n",
       "</table>\n",
       "</div>"
      ],
      "text/plain": [
       "                          Position.Name            Employer.Name  \\\n",
       "Applicant.ID                                                       \n",
       "2                             Volunteer  School for Self-Healing   \n",
       "2             Writer for the Uloop Blog            Cecilia Abate   \n",
       "3                      Marketing Intern                    Honda   \n",
       "3                                Server       Aloha Beach Resort   \n",
       "3                             Prep Cook           Moscone Center   \n",
       "\n",
       "                                                Job.Description  \n",
       "Applicant.ID                                                     \n",
       "2             * Read aloud Meir Schneider's books and record...  \n",
       "2             * Wrote articles for the \"Uloop Blog,\" which i...  \n",
       "3                                                                \n",
       "3                                                                \n",
       "3                                                                "
      ]
     },
     "execution_count": 7,
     "metadata": {},
     "output_type": "execute_result"
    }
   ],
   "source": [
    "candidates = pd.read_csv('data/Experience.csv', index_col='Applicant.ID')\n",
    "candidates = candidates[['Position.Name', 'Employer.Name', 'Job.Description']]\n",
    "candidates.fillna('', inplace=True)\n",
    "candidates.sort_index(axis = 0, inplace=True) \n",
    "\n",
    "candidates.head(5)"
   ]
  },
  {
   "cell_type": "code",
   "execution_count": 8,
   "metadata": {},
   "outputs": [
    {
     "data": {
      "text/html": [
       "<div>\n",
       "<style scoped>\n",
       "    .dataframe tbody tr th:only-of-type {\n",
       "        vertical-align: middle;\n",
       "    }\n",
       "\n",
       "    .dataframe tbody tr th {\n",
       "        vertical-align: top;\n",
       "    }\n",
       "\n",
       "    .dataframe thead th {\n",
       "        text-align: right;\n",
       "    }\n",
       "</style>\n",
       "<table border=\"1\" class=\"dataframe\">\n",
       "  <thead>\n",
       "    <tr style=\"text-align: right;\">\n",
       "      <th></th>\n",
       "      <th>Applicant.ID</th>\n",
       "      <th>Job.ID</th>\n",
       "    </tr>\n",
       "  </thead>\n",
       "  <tbody>\n",
       "    <tr>\n",
       "      <td>0</td>\n",
       "      <td>10000</td>\n",
       "      <td>73666</td>\n",
       "    </tr>\n",
       "    <tr>\n",
       "      <td>1</td>\n",
       "      <td>10000</td>\n",
       "      <td>96655</td>\n",
       "    </tr>\n",
       "    <tr>\n",
       "      <td>2</td>\n",
       "      <td>10001</td>\n",
       "      <td>84141</td>\n",
       "    </tr>\n",
       "    <tr>\n",
       "      <td>3</td>\n",
       "      <td>10002</td>\n",
       "      <td>77989</td>\n",
       "    </tr>\n",
       "    <tr>\n",
       "      <td>4</td>\n",
       "      <td>10002</td>\n",
       "      <td>69568</td>\n",
       "    </tr>\n",
       "  </tbody>\n",
       "</table>\n",
       "</div>"
      ],
      "text/plain": [
       "   Applicant.ID  Job.ID\n",
       "0         10000   73666\n",
       "1         10000   96655\n",
       "2         10001   84141\n",
       "3         10002   77989\n",
       "4         10002   69568"
      ]
     },
     "execution_count": 8,
     "metadata": {},
     "output_type": "execute_result"
    }
   ],
   "source": [
    "actions = pd.read_csv('data/Job_Views.csv')\n",
    "actions = actions[['Applicant.ID', 'Job.ID']]\n",
    "actions.sort_index(axis = 0, inplace=True) \n",
    "actions.head(5)"
   ]
  },
  {
   "cell_type": "markdown",
   "metadata": {},
   "source": [
    "Let's check the percentage of active applicants having job views."
   ]
  },
  {
   "cell_type": "code",
   "execution_count": 9,
   "metadata": {},
   "outputs": [
    {
     "name": "stdout",
     "output_type": "stream",
     "text": [
      "Size of all candidates matrix:    (8653, 3)\n",
      "Size of active candidates matrix: (2178, 3)\n"
     ]
    },
    {
     "data": {
      "text/html": [
       "<div>\n",
       "<style scoped>\n",
       "    .dataframe tbody tr th:only-of-type {\n",
       "        vertical-align: middle;\n",
       "    }\n",
       "\n",
       "    .dataframe tbody tr th {\n",
       "        vertical-align: top;\n",
       "    }\n",
       "\n",
       "    .dataframe thead th {\n",
       "        text-align: right;\n",
       "    }\n",
       "</style>\n",
       "<table border=\"1\" class=\"dataframe\">\n",
       "  <thead>\n",
       "    <tr style=\"text-align: right;\">\n",
       "      <th></th>\n",
       "      <th>Position.Name</th>\n",
       "      <th>Employer.Name</th>\n",
       "      <th>Job.Description</th>\n",
       "    </tr>\n",
       "    <tr>\n",
       "      <th>Applicant.ID</th>\n",
       "      <th></th>\n",
       "      <th></th>\n",
       "      <th></th>\n",
       "    </tr>\n",
       "  </thead>\n",
       "  <tbody>\n",
       "    <tr>\n",
       "      <td>42</td>\n",
       "      <td>Courtesy Clerk</td>\n",
       "      <td>Safeway</td>\n",
       "      <td></td>\n",
       "    </tr>\n",
       "    <tr>\n",
       "      <td>42</td>\n",
       "      <td>Street Marketer</td>\n",
       "      <td>Media Nation</td>\n",
       "      <td></td>\n",
       "    </tr>\n",
       "    <tr>\n",
       "      <td>96</td>\n",
       "      <td>Cashiet/Waiter</td>\n",
       "      <td>Miss Saigon</td>\n",
       "      <td>Place table for customers, provide water or te...</td>\n",
       "    </tr>\n",
       "    <tr>\n",
       "      <td>96</td>\n",
       "      <td>Receptionist</td>\n",
       "      <td>CCSF Duplicatiing</td>\n",
       "      <td>Greeting professors and faculty staff.</td>\n",
       "    </tr>\n",
       "    <tr>\n",
       "      <td>96</td>\n",
       "      <td>Cashier</td>\n",
       "      <td>Honey Berry</td>\n",
       "      <td>Greeting people and introducing/recommend food...</td>\n",
       "    </tr>\n",
       "  </tbody>\n",
       "</table>\n",
       "</div>"
      ],
      "text/plain": [
       "                Position.Name      Employer.Name  \\\n",
       "Applicant.ID                                       \n",
       "42             Courtesy Clerk            Safeway   \n",
       "42            Street Marketer       Media Nation   \n",
       "96             Cashiet/Waiter        Miss Saigon   \n",
       "96               Receptionist  CCSF Duplicatiing   \n",
       "96                    Cashier        Honey Berry   \n",
       "\n",
       "                                                Job.Description  \n",
       "Applicant.ID                                                     \n",
       "42                                                               \n",
       "42                                                               \n",
       "96            Place table for customers, provide water or te...  \n",
       "96                      Greeting professors and faculty staff.   \n",
       "96            Greeting people and introducing/recommend food...  "
      ]
     },
     "execution_count": 9,
     "metadata": {},
     "output_type": "execute_result"
    }
   ],
   "source": [
    "import numpy as np\n",
    "\n",
    "all_candidates_idxs = candidates.index.values\n",
    "action_idxs = actions['Applicant.ID'].values\n",
    "active_indexes = list(set(all_candidates_idxs).intersection(action_idxs))\n",
    "\n",
    "active_candidates = candidates[candidates.index.isin(active_indexes)].sort_index(axis = 0, inplace=False) \n",
    "print('Size of all candidates matrix:    {}'.format(candidates.shape))\n",
    "print('Size of active candidates matrix: {}'.format(active_candidates.shape))\n",
    "active_candidates.head(5)"
   ]
  },
  {
   "cell_type": "markdown",
   "metadata": {},
   "source": [
    "This phase proposes the CF phase to capture similar applicants to offer their applied job positions to other users."
   ]
  },
  {
   "cell_type": "code",
   "execution_count": 10,
   "metadata": {},
   "outputs": [],
   "source": [
    "from sklearn.feature_extraction.text import TfidfVectorizer\n",
    "\n",
    "candidates['aggr_data'] = candidates['Position.Name'] + \\\n",
    "                            ' ' + candidates['Employer.Name'] + \\\n",
    "                            ' ' +  candidates['Job.Description']\n",
    "\n",
    "candidates['aggr_data'] = text_processing(candidates.copy(), 'aggr_data')\n",
    "candidates.head(5)\n",
    "\n",
    "v2 = TfidfVectorizer()\n",
    "tfidf_matrix_user = v2.fit_transform(candidates['aggr_data'])"
   ]
  },
  {
   "cell_type": "code",
   "execution_count": 11,
   "metadata": {},
   "outputs": [],
   "source": [
    "from sklearn.metrics.pairwise import linear_kernel\n",
    "\n",
    "def retrieve_similar_users(tfidf_matrix, data, _text, candid_id, k = 3):\n",
    "    query_vector = v2.transform([_text])\n",
    "    similarities = linear_kernel(query_vector, tfidf_matrix).flatten()\n",
    "    scores = pd.DataFrame(list(zip(similarities, data.index)), columns=['score', 'Applicant.ID'])\n",
    "    result = pd.merge(data, scores, how='inner', on=['Applicant.ID',\n",
    "                                                     'Applicant.ID']).sort_values('score', axis=0, ascending=False)\n",
    "    result = result[result['Applicant.ID'] != candid_id]\n",
    "    return result.head(k)"
   ]
  },
  {
   "cell_type": "markdown",
   "metadata": {},
   "source": [
    "To illustrate the 2nd phase, let's query an applicant by his/her ID and then find his/her similar applicants."
   ]
  },
  {
   "cell_type": "code",
   "execution_count": 12,
   "metadata": {},
   "outputs": [
    {
     "data": {
      "text/html": [
       "<div>\n",
       "<style scoped>\n",
       "    .dataframe tbody tr th:only-of-type {\n",
       "        vertical-align: middle;\n",
       "    }\n",
       "\n",
       "    .dataframe tbody tr th {\n",
       "        vertical-align: top;\n",
       "    }\n",
       "\n",
       "    .dataframe thead th {\n",
       "        text-align: right;\n",
       "    }\n",
       "</style>\n",
       "<table border=\"1\" class=\"dataframe\">\n",
       "  <thead>\n",
       "    <tr style=\"text-align: right;\">\n",
       "      <th></th>\n",
       "      <th>Position.Name</th>\n",
       "      <th>Employer.Name</th>\n",
       "      <th>Job.Description</th>\n",
       "      <th>aggr_data</th>\n",
       "    </tr>\n",
       "    <tr>\n",
       "      <th>Applicant.ID</th>\n",
       "      <th></th>\n",
       "      <th></th>\n",
       "      <th></th>\n",
       "      <th></th>\n",
       "    </tr>\n",
       "  </thead>\n",
       "  <tbody>\n",
       "    <tr>\n",
       "      <td>1001</td>\n",
       "      <td>Sales Associate</td>\n",
       "      <td>Athleta</td>\n",
       "      <td>Assist customers on sales floor and in fitting...</td>\n",
       "      <td>sale associ athleta assist custom sale floor f...</td>\n",
       "    </tr>\n",
       "  </tbody>\n",
       "</table>\n",
       "</div>"
      ],
      "text/plain": [
       "                Position.Name Employer.Name  \\\n",
       "Applicant.ID                                  \n",
       "1001          Sales Associate       Athleta   \n",
       "\n",
       "                                                Job.Description  \\\n",
       "Applicant.ID                                                      \n",
       "1001          Assist customers on sales floor and in fitting...   \n",
       "\n",
       "                                                      aggr_data  \n",
       "Applicant.ID                                                     \n",
       "1001          sale associ athleta assist custom sale floor f...  "
      ]
     },
     "execution_count": 12,
     "metadata": {},
     "output_type": "execute_result"
    }
   ],
   "source": [
    "applicant_id = 1001\n",
    "applicant = candidates.query('index == {}'.format(applicant_id))\n",
    "applicant"
   ]
  },
  {
   "cell_type": "code",
   "execution_count": 13,
   "metadata": {},
   "outputs": [
    {
     "data": {
      "text/html": [
       "<div>\n",
       "<style scoped>\n",
       "    .dataframe tbody tr th:only-of-type {\n",
       "        vertical-align: middle;\n",
       "    }\n",
       "\n",
       "    .dataframe tbody tr th {\n",
       "        vertical-align: top;\n",
       "    }\n",
       "\n",
       "    .dataframe thead th {\n",
       "        text-align: right;\n",
       "    }\n",
       "</style>\n",
       "<table border=\"1\" class=\"dataframe\">\n",
       "  <thead>\n",
       "    <tr style=\"text-align: right;\">\n",
       "      <th></th>\n",
       "      <th>Applicant.ID</th>\n",
       "      <th>Position.Name</th>\n",
       "      <th>Employer.Name</th>\n",
       "      <th>Job.Description</th>\n",
       "      <th>score</th>\n",
       "    </tr>\n",
       "  </thead>\n",
       "  <tbody>\n",
       "    <tr>\n",
       "      <td>12201</td>\n",
       "      <td>5304</td>\n",
       "      <td>Sales Associate</td>\n",
       "      <td>Ross</td>\n",
       "      <td>Fitting room, customer service, sales floor, a...</td>\n",
       "      <td>0.403909</td>\n",
       "    </tr>\n",
       "    <tr>\n",
       "      <td>23800</td>\n",
       "      <td>9944</td>\n",
       "      <td>Team Member</td>\n",
       "      <td>Flyers Energy</td>\n",
       "      <td>Receive payment from customers, ensure that re...</td>\n",
       "      <td>0.336311</td>\n",
       "    </tr>\n",
       "    <tr>\n",
       "      <td>23805</td>\n",
       "      <td>9944</td>\n",
       "      <td>Seasonal Sales Associate</td>\n",
       "      <td>Macy's</td>\n",
       "      <td>Greet and make a connection with each customer...</td>\n",
       "      <td>0.336311</td>\n",
       "    </tr>\n",
       "  </tbody>\n",
       "</table>\n",
       "</div>"
      ],
      "text/plain": [
       "       Applicant.ID             Position.Name  Employer.Name  \\\n",
       "12201          5304           Sales Associate           Ross   \n",
       "23800          9944               Team Member  Flyers Energy   \n",
       "23805          9944  Seasonal Sales Associate         Macy's   \n",
       "\n",
       "                                         Job.Description     score  \n",
       "12201  Fitting room, customer service, sales floor, a...  0.403909  \n",
       "23800  Receive payment from customers, ensure that re...  0.336311  \n",
       "23805  Greet and make a connection with each customer...  0.336311  "
      ]
     },
     "execution_count": 13,
     "metadata": {},
     "output_type": "execute_result"
    }
   ],
   "source": [
    "dfs = []\n",
    "for index, row in applicant.iterrows():\n",
    "    r = retrieve_similar_users(tfidf_matrix_user, candidates, row['aggr_data'], applicant_id, k = 3)\n",
    "    dfs.append(r)\n",
    "df = pd.concat(dfs).drop(['aggr_data'], axis=1).sort_values('score', axis=0, ascending=False)\n",
    "df.head(10)"
   ]
  },
  {
   "cell_type": "markdown",
   "metadata": {},
   "source": [
    "As the result, we can imitate the offers of applicant #5304 to applicant #1001."
   ]
  }
 ],
 "metadata": {
  "kernelspec": {
   "display_name": "Python 3",
   "language": "python",
   "name": "python3"
  },
  "language_info": {
   "codemirror_mode": {
    "name": "ipython",
    "version": 3
   },
   "file_extension": ".py",
   "mimetype": "text/x-python",
   "name": "python",
   "nbconvert_exporter": "python",
   "pygments_lexer": "ipython3",
   "version": "3.6.8"
  }
 },
 "nbformat": 4,
 "nbformat_minor": 2
}
